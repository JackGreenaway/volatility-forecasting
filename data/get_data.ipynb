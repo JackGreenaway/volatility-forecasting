{
 "cells": [
  {
   "cell_type": "code",
   "execution_count": 64,
   "metadata": {},
   "outputs": [],
   "source": [
    "import yfinance as yf\n",
    "import numpy as np\n",
    "import pandas as pd\n",
    "import ta"
   ]
  },
  {
   "cell_type": "code",
   "execution_count": 65,
   "metadata": {},
   "outputs": [
    {
     "name": "stdout",
     "output_type": "stream",
     "text": [
      "[*********************100%***********************]  1 of 1 completed\n"
     ]
    }
   ],
   "source": [
    "start = \"2000-01-01\"\n",
    "\n",
    "raw_data = yf.download(\"^GSPC\", start=start)"
   ]
  },
  {
   "cell_type": "code",
   "execution_count": 70,
   "metadata": {},
   "outputs": [],
   "source": [
    "def add_features(df):\n",
    "    df[\"log_returns\"] = np.log(df[\"Adj Close\"]) - np.log(df[\"Adj Close\"].shift(1))\n",
    "    df[\"pct_change\"] = df[\"Adj Close\"].pct_change()\n",
    "\n",
    "    df[\"20_ma\"] = df[\"Adj Close\"].rolling(20).mean()\n",
    "    df[\"upper_band\"] = ta.volatility.bollinger_hband(df[\"Adj Close\"], window=20)\n",
    "    df[\"lower_band\"] = ta.volatility.bollinger_lband(df[\"Adj Close\"], window=20)\n",
    "    \n",
    "    df[\"10y_yield\"] = yf.download(\"^TNX\", start=start)[\"Adj Close\"]\n",
    "    \n",
    "    df.dropna(inplace=True)\n",
    "    \n",
    "    return df"
   ]
  },
  {
   "cell_type": "code",
   "execution_count": 71,
   "metadata": {},
   "outputs": [
    {
     "name": "stdout",
     "output_type": "stream",
     "text": [
      "[*********************100%***********************]  1 of 1 completed\n"
     ]
    }
   ],
   "source": [
    "data = add_features(raw_data)"
   ]
  }
 ],
 "metadata": {
  "kernelspec": {
   "display_name": "Python 3",
   "language": "python",
   "name": "python3"
  },
  "language_info": {
   "codemirror_mode": {
    "name": "ipython",
    "version": 3
   },
   "file_extension": ".py",
   "mimetype": "text/x-python",
   "name": "python",
   "nbconvert_exporter": "python",
   "pygments_lexer": "ipython3",
   "version": "3.9.13"
  },
  "orig_nbformat": 4
 },
 "nbformat": 4,
 "nbformat_minor": 2
}
